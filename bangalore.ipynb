{
 "cells": [
  {
   "cell_type": "markdown",
   "metadata": {},
   "source": [
    "## Data Analysis with pandas\n",
    "\n",
    "We are going to examine data from the [Bangalore Open Data Repository](https://github.com/openbangalore/bangalore). Bangalore is the 3rd most populous city in India and widely regarded as the Silicon Valley of India."
   ]
  },
  {
   "cell_type": "markdown",
   "metadata": {},
   "source": [
    "### Task 1 - Load Data\n",
    "\n",
    "- Read in the data to pandas\n",
    "- Check the shape of the dataframe\n",
    "- Check the summary statistics of the dataframe\n",
    "- Change the row index to the \"Year\" column"
   ]
  },
  {
   "cell_type": "code",
   "execution_count": 18,
   "metadata": {
    "collapsed": true
   },
   "outputs": [],
   "source": [
    "%matplotlib inline\n",
    "\n",
    "import pandas as pd\n",
    "import matplotlib as plt\n",
    "\n",
    "# read in csv\n",
    "bangalore_temp = pd.read_csv('bangalore_temparature.tsv', sep='\\t')\n"
   ]
  },
  {
   "cell_type": "code",
   "execution_count": 19,
   "metadata": {
    "collapsed": false
   },
   "outputs": [
    {
     "data": {
      "text/html": [
       "<div>\n",
       "<table border=\"1\" class=\"dataframe\">\n",
       "  <thead>\n",
       "    <tr style=\"text-align: right;\">\n",
       "      <th></th>\n",
       "      <th>Year</th>\n",
       "      <th>Jan</th>\n",
       "      <th>Feb</th>\n",
       "      <th>Mar</th>\n",
       "      <th>Apr</th>\n",
       "      <th>May</th>\n",
       "      <th>Jun</th>\n",
       "      <th>Jul</th>\n",
       "      <th>Aug</th>\n",
       "      <th>Sep</th>\n",
       "      <th>Oct</th>\n",
       "      <th>Nov</th>\n",
       "      <th>Dec</th>\n",
       "    </tr>\n",
       "  </thead>\n",
       "  <tbody>\n",
       "    <tr>\n",
       "      <th>0</th>\n",
       "      <td>1901</td>\n",
       "      <td>23.094</td>\n",
       "      <td>24.243</td>\n",
       "      <td>25.398</td>\n",
       "      <td>27.740</td>\n",
       "      <td>26.328</td>\n",
       "      <td>24.735</td>\n",
       "      <td>23.969</td>\n",
       "      <td>24.154</td>\n",
       "      <td>25.097</td>\n",
       "      <td>24.301</td>\n",
       "      <td>23.090</td>\n",
       "      <td>21.000</td>\n",
       "    </tr>\n",
       "    <tr>\n",
       "      <th>1</th>\n",
       "      <td>1902</td>\n",
       "      <td>21.588</td>\n",
       "      <td>22.930</td>\n",
       "      <td>26.277</td>\n",
       "      <td>27.442</td>\n",
       "      <td>27.118</td>\n",
       "      <td>25.477</td>\n",
       "      <td>24.428</td>\n",
       "      <td>25.019</td>\n",
       "      <td>23.940</td>\n",
       "      <td>23.759</td>\n",
       "      <td>22.790</td>\n",
       "      <td>22.184</td>\n",
       "    </tr>\n",
       "    <tr>\n",
       "      <th>2</th>\n",
       "      <td>1903</td>\n",
       "      <td>22.296</td>\n",
       "      <td>23.969</td>\n",
       "      <td>26.552</td>\n",
       "      <td>27.764</td>\n",
       "      <td>26.718</td>\n",
       "      <td>25.132</td>\n",
       "      <td>24.004</td>\n",
       "      <td>23.958</td>\n",
       "      <td>23.925</td>\n",
       "      <td>23.587</td>\n",
       "      <td>21.693</td>\n",
       "      <td>20.727</td>\n",
       "    </tr>\n",
       "    <tr>\n",
       "      <th>3</th>\n",
       "      <td>1904</td>\n",
       "      <td>20.982</td>\n",
       "      <td>22.623</td>\n",
       "      <td>25.636</td>\n",
       "      <td>27.510</td>\n",
       "      <td>25.878</td>\n",
       "      <td>23.714</td>\n",
       "      <td>23.278</td>\n",
       "      <td>24.032</td>\n",
       "      <td>24.408</td>\n",
       "      <td>24.185</td>\n",
       "      <td>22.214</td>\n",
       "      <td>21.119</td>\n",
       "    </tr>\n",
       "    <tr>\n",
       "      <th>4</th>\n",
       "      <td>1905</td>\n",
       "      <td>21.740</td>\n",
       "      <td>24.158</td>\n",
       "      <td>26.095</td>\n",
       "      <td>26.977</td>\n",
       "      <td>26.863</td>\n",
       "      <td>25.271</td>\n",
       "      <td>24.453</td>\n",
       "      <td>24.444</td>\n",
       "      <td>24.476</td>\n",
       "      <td>24.007</td>\n",
       "      <td>23.029</td>\n",
       "      <td>21.372</td>\n",
       "    </tr>\n",
       "  </tbody>\n",
       "</table>\n",
       "</div>"
      ],
      "text/plain": [
       "   Year     Jan     Feb     Mar     Apr     May     Jun     Jul     Aug  \\\n",
       "0  1901  23.094  24.243  25.398  27.740  26.328  24.735  23.969  24.154   \n",
       "1  1902  21.588  22.930  26.277  27.442  27.118  25.477  24.428  25.019   \n",
       "2  1903  22.296  23.969  26.552  27.764  26.718  25.132  24.004  23.958   \n",
       "3  1904  20.982  22.623  25.636  27.510  25.878  23.714  23.278  24.032   \n",
       "4  1905  21.740  24.158  26.095  26.977  26.863  25.271  24.453  24.444   \n",
       "\n",
       "      Sep     Oct     Nov     Dec  \n",
       "0  25.097  24.301  23.090  21.000  \n",
       "1  23.940  23.759  22.790  22.184  \n",
       "2  23.925  23.587  21.693  20.727  \n",
       "3  24.408  24.185  22.214  21.119  \n",
       "4  24.476  24.007  23.029  21.372  "
      ]
     },
     "execution_count": 19,
     "metadata": {},
     "output_type": "execute_result"
    }
   ],
   "source": [
    "# Take a peak at the data\n",
    "bangalore_temp.head()"
   ]
  },
  {
   "cell_type": "code",
   "execution_count": 20,
   "metadata": {
    "collapsed": false
   },
   "outputs": [
    {
     "data": {
      "text/plain": [
       "(102, 13)"
      ]
     },
     "execution_count": 20,
     "metadata": {},
     "output_type": "execute_result"
    }
   ],
   "source": [
    "# check shape\n",
    "bangalore_temp.shape"
   ]
  },
  {
   "cell_type": "code",
   "execution_count": 21,
   "metadata": {
    "collapsed": false
   },
   "outputs": [
    {
     "data": {
      "text/html": [
       "<div>\n",
       "<table border=\"1\" class=\"dataframe\">\n",
       "  <thead>\n",
       "    <tr style=\"text-align: right;\">\n",
       "      <th></th>\n",
       "      <th>Year</th>\n",
       "      <th>Jan</th>\n",
       "      <th>Feb</th>\n",
       "      <th>Mar</th>\n",
       "      <th>Apr</th>\n",
       "      <th>May</th>\n",
       "      <th>Jun</th>\n",
       "      <th>Jul</th>\n",
       "      <th>Aug</th>\n",
       "      <th>Sep</th>\n",
       "      <th>Oct</th>\n",
       "      <th>Nov</th>\n",
       "      <th>Dec</th>\n",
       "    </tr>\n",
       "  </thead>\n",
       "  <tbody>\n",
       "    <tr>\n",
       "      <th>count</th>\n",
       "      <td>102.000000</td>\n",
       "      <td>102.000000</td>\n",
       "      <td>102.000000</td>\n",
       "      <td>102.000000</td>\n",
       "      <td>102.000000</td>\n",
       "      <td>102.000000</td>\n",
       "      <td>102.000000</td>\n",
       "      <td>102.000000</td>\n",
       "      <td>102.000000</td>\n",
       "      <td>102.000000</td>\n",
       "      <td>102.000000</td>\n",
       "      <td>102.000000</td>\n",
       "      <td>102.000000</td>\n",
       "    </tr>\n",
       "    <tr>\n",
       "      <th>mean</th>\n",
       "      <td>1951.500000</td>\n",
       "      <td>22.122088</td>\n",
       "      <td>24.028069</td>\n",
       "      <td>26.375049</td>\n",
       "      <td>27.844608</td>\n",
       "      <td>27.108118</td>\n",
       "      <td>24.923186</td>\n",
       "      <td>23.985824</td>\n",
       "      <td>24.125373</td>\n",
       "      <td>24.347304</td>\n",
       "      <td>24.100167</td>\n",
       "      <td>22.882186</td>\n",
       "      <td>21.759961</td>\n",
       "    </tr>\n",
       "    <tr>\n",
       "      <th>std</th>\n",
       "      <td>29.588849</td>\n",
       "      <td>0.617820</td>\n",
       "      <td>0.732336</td>\n",
       "      <td>0.656179</td>\n",
       "      <td>0.558630</td>\n",
       "      <td>0.636558</td>\n",
       "      <td>0.547904</td>\n",
       "      <td>0.485182</td>\n",
       "      <td>0.373501</td>\n",
       "      <td>0.520555</td>\n",
       "      <td>0.458388</td>\n",
       "      <td>0.581238</td>\n",
       "      <td>0.554744</td>\n",
       "    </tr>\n",
       "    <tr>\n",
       "      <th>min</th>\n",
       "      <td>1901.000000</td>\n",
       "      <td>20.699000</td>\n",
       "      <td>22.145000</td>\n",
       "      <td>24.791000</td>\n",
       "      <td>26.725000</td>\n",
       "      <td>25.378000</td>\n",
       "      <td>23.621000</td>\n",
       "      <td>22.770000</td>\n",
       "      <td>23.090000</td>\n",
       "      <td>23.189000</td>\n",
       "      <td>22.838000</td>\n",
       "      <td>21.693000</td>\n",
       "      <td>20.648000</td>\n",
       "    </tr>\n",
       "    <tr>\n",
       "      <th>25%</th>\n",
       "      <td>1926.250000</td>\n",
       "      <td>21.768250</td>\n",
       "      <td>23.502250</td>\n",
       "      <td>25.965000</td>\n",
       "      <td>27.452000</td>\n",
       "      <td>26.691500</td>\n",
       "      <td>24.601000</td>\n",
       "      <td>23.620000</td>\n",
       "      <td>23.856000</td>\n",
       "      <td>23.977500</td>\n",
       "      <td>23.827000</td>\n",
       "      <td>22.438250</td>\n",
       "      <td>21.313000</td>\n",
       "    </tr>\n",
       "    <tr>\n",
       "      <th>50%</th>\n",
       "      <td>1951.500000</td>\n",
       "      <td>22.187000</td>\n",
       "      <td>24.074000</td>\n",
       "      <td>26.462500</td>\n",
       "      <td>27.899000</td>\n",
       "      <td>27.231000</td>\n",
       "      <td>24.932500</td>\n",
       "      <td>24.022500</td>\n",
       "      <td>24.080500</td>\n",
       "      <td>24.351000</td>\n",
       "      <td>24.149500</td>\n",
       "      <td>22.934500</td>\n",
       "      <td>21.826500</td>\n",
       "    </tr>\n",
       "    <tr>\n",
       "      <th>75%</th>\n",
       "      <td>1976.750000</td>\n",
       "      <td>22.476750</td>\n",
       "      <td>24.534000</td>\n",
       "      <td>26.748500</td>\n",
       "      <td>28.213750</td>\n",
       "      <td>27.579250</td>\n",
       "      <td>25.250750</td>\n",
       "      <td>24.293500</td>\n",
       "      <td>24.430250</td>\n",
       "      <td>24.685500</td>\n",
       "      <td>24.354000</td>\n",
       "      <td>23.234000</td>\n",
       "      <td>22.114250</td>\n",
       "    </tr>\n",
       "    <tr>\n",
       "      <th>max</th>\n",
       "      <td>2002.000000</td>\n",
       "      <td>23.530000</td>\n",
       "      <td>26.134000</td>\n",
       "      <td>28.048000</td>\n",
       "      <td>29.068000</td>\n",
       "      <td>28.272000</td>\n",
       "      <td>26.427000</td>\n",
       "      <td>25.190000</td>\n",
       "      <td>25.019000</td>\n",
       "      <td>25.869000</td>\n",
       "      <td>25.413000</td>\n",
       "      <td>24.478000</td>\n",
       "      <td>23.124000</td>\n",
       "    </tr>\n",
       "  </tbody>\n",
       "</table>\n",
       "</div>"
      ],
      "text/plain": [
       "              Year         Jan         Feb         Mar         Apr  \\\n",
       "count   102.000000  102.000000  102.000000  102.000000  102.000000   \n",
       "mean   1951.500000   22.122088   24.028069   26.375049   27.844608   \n",
       "std      29.588849    0.617820    0.732336    0.656179    0.558630   \n",
       "min    1901.000000   20.699000   22.145000   24.791000   26.725000   \n",
       "25%    1926.250000   21.768250   23.502250   25.965000   27.452000   \n",
       "50%    1951.500000   22.187000   24.074000   26.462500   27.899000   \n",
       "75%    1976.750000   22.476750   24.534000   26.748500   28.213750   \n",
       "max    2002.000000   23.530000   26.134000   28.048000   29.068000   \n",
       "\n",
       "              May         Jun         Jul         Aug         Sep         Oct  \\\n",
       "count  102.000000  102.000000  102.000000  102.000000  102.000000  102.000000   \n",
       "mean    27.108118   24.923186   23.985824   24.125373   24.347304   24.100167   \n",
       "std      0.636558    0.547904    0.485182    0.373501    0.520555    0.458388   \n",
       "min     25.378000   23.621000   22.770000   23.090000   23.189000   22.838000   \n",
       "25%     26.691500   24.601000   23.620000   23.856000   23.977500   23.827000   \n",
       "50%     27.231000   24.932500   24.022500   24.080500   24.351000   24.149500   \n",
       "75%     27.579250   25.250750   24.293500   24.430250   24.685500   24.354000   \n",
       "max     28.272000   26.427000   25.190000   25.019000   25.869000   25.413000   \n",
       "\n",
       "              Nov         Dec  \n",
       "count  102.000000  102.000000  \n",
       "mean    22.882186   21.759961  \n",
       "std      0.581238    0.554744  \n",
       "min     21.693000   20.648000  \n",
       "25%     22.438250   21.313000  \n",
       "50%     22.934500   21.826500  \n",
       "75%     23.234000   22.114250  \n",
       "max     24.478000   23.124000  "
      ]
     },
     "execution_count": 21,
     "metadata": {},
     "output_type": "execute_result"
    }
   ],
   "source": [
    "# check summary statistics for dataframe\n",
    "bangalore_temp.describe()"
   ]
  },
  {
   "cell_type": "code",
   "execution_count": 22,
   "metadata": {
    "collapsed": false
   },
   "outputs": [
    {
     "data": {
      "text/html": [
       "<div>\n",
       "<table border=\"1\" class=\"dataframe\">\n",
       "  <thead>\n",
       "    <tr style=\"text-align: right;\">\n",
       "      <th></th>\n",
       "      <th>Jan</th>\n",
       "      <th>Feb</th>\n",
       "      <th>Mar</th>\n",
       "      <th>Apr</th>\n",
       "      <th>May</th>\n",
       "      <th>Jun</th>\n",
       "      <th>Jul</th>\n",
       "      <th>Aug</th>\n",
       "      <th>Sep</th>\n",
       "      <th>Oct</th>\n",
       "      <th>Nov</th>\n",
       "      <th>Dec</th>\n",
       "    </tr>\n",
       "    <tr>\n",
       "      <th>Year</th>\n",
       "      <th></th>\n",
       "      <th></th>\n",
       "      <th></th>\n",
       "      <th></th>\n",
       "      <th></th>\n",
       "      <th></th>\n",
       "      <th></th>\n",
       "      <th></th>\n",
       "      <th></th>\n",
       "      <th></th>\n",
       "      <th></th>\n",
       "      <th></th>\n",
       "    </tr>\n",
       "  </thead>\n",
       "  <tbody>\n",
       "    <tr>\n",
       "      <th>1901</th>\n",
       "      <td>23.094</td>\n",
       "      <td>24.243</td>\n",
       "      <td>25.398</td>\n",
       "      <td>27.740</td>\n",
       "      <td>26.328</td>\n",
       "      <td>24.735</td>\n",
       "      <td>23.969</td>\n",
       "      <td>24.154</td>\n",
       "      <td>25.097</td>\n",
       "      <td>24.301</td>\n",
       "      <td>23.090</td>\n",
       "      <td>21.000</td>\n",
       "    </tr>\n",
       "    <tr>\n",
       "      <th>1902</th>\n",
       "      <td>21.588</td>\n",
       "      <td>22.930</td>\n",
       "      <td>26.277</td>\n",
       "      <td>27.442</td>\n",
       "      <td>27.118</td>\n",
       "      <td>25.477</td>\n",
       "      <td>24.428</td>\n",
       "      <td>25.019</td>\n",
       "      <td>23.940</td>\n",
       "      <td>23.759</td>\n",
       "      <td>22.790</td>\n",
       "      <td>22.184</td>\n",
       "    </tr>\n",
       "    <tr>\n",
       "      <th>1903</th>\n",
       "      <td>22.296</td>\n",
       "      <td>23.969</td>\n",
       "      <td>26.552</td>\n",
       "      <td>27.764</td>\n",
       "      <td>26.718</td>\n",
       "      <td>25.132</td>\n",
       "      <td>24.004</td>\n",
       "      <td>23.958</td>\n",
       "      <td>23.925</td>\n",
       "      <td>23.587</td>\n",
       "      <td>21.693</td>\n",
       "      <td>20.727</td>\n",
       "    </tr>\n",
       "    <tr>\n",
       "      <th>1904</th>\n",
       "      <td>20.982</td>\n",
       "      <td>22.623</td>\n",
       "      <td>25.636</td>\n",
       "      <td>27.510</td>\n",
       "      <td>25.878</td>\n",
       "      <td>23.714</td>\n",
       "      <td>23.278</td>\n",
       "      <td>24.032</td>\n",
       "      <td>24.408</td>\n",
       "      <td>24.185</td>\n",
       "      <td>22.214</td>\n",
       "      <td>21.119</td>\n",
       "    </tr>\n",
       "    <tr>\n",
       "      <th>1905</th>\n",
       "      <td>21.740</td>\n",
       "      <td>24.158</td>\n",
       "      <td>26.095</td>\n",
       "      <td>26.977</td>\n",
       "      <td>26.863</td>\n",
       "      <td>25.271</td>\n",
       "      <td>24.453</td>\n",
       "      <td>24.444</td>\n",
       "      <td>24.476</td>\n",
       "      <td>24.007</td>\n",
       "      <td>23.029</td>\n",
       "      <td>21.372</td>\n",
       "    </tr>\n",
       "  </tbody>\n",
       "</table>\n",
       "</div>"
      ],
      "text/plain": [
       "         Jan     Feb     Mar     Apr     May     Jun     Jul     Aug     Sep  \\\n",
       "Year                                                                           \n",
       "1901  23.094  24.243  25.398  27.740  26.328  24.735  23.969  24.154  25.097   \n",
       "1902  21.588  22.930  26.277  27.442  27.118  25.477  24.428  25.019  23.940   \n",
       "1903  22.296  23.969  26.552  27.764  26.718  25.132  24.004  23.958  23.925   \n",
       "1904  20.982  22.623  25.636  27.510  25.878  23.714  23.278  24.032  24.408   \n",
       "1905  21.740  24.158  26.095  26.977  26.863  25.271  24.453  24.444  24.476   \n",
       "\n",
       "         Oct     Nov     Dec  \n",
       "Year                          \n",
       "1901  24.301  23.090  21.000  \n",
       "1902  23.759  22.790  22.184  \n",
       "1903  23.587  21.693  20.727  \n",
       "1904  24.185  22.214  21.119  \n",
       "1905  24.007  23.029  21.372  "
      ]
     },
     "execution_count": 22,
     "metadata": {},
     "output_type": "execute_result"
    }
   ],
   "source": [
    "# Change the index \n",
    "bangalore_temp = bangalore_temp.set_index('Year')\n",
    "bangalore_temp.head()"
   ]
  },
  {
   "cell_type": "markdown",
   "metadata": {},
   "source": [
    "### Task 2 - Initial Data Analysis\n",
    "\n",
    "- (Chart) How does temperature vary over the year (X-axis is months)?\n",
    "- (Chart) How does temperature vary over the years (X-axis is years)?\n",
    "- Which months had the highest and lowest temperatures in 1960?\n",
    "- What were the highest, lowest and mean values in 1960?\n",
    "- Where were the highest, lowest and mean values in an arbitray year (hint: write a function)?\n",
    "- Which months had the highest and lowest gains in temperature?\n",
    "- Make a histogram, KDE plot and bar plot of the gains."
   ]
  },
  {
   "cell_type": "code",
   "execution_count": 29,
   "metadata": {
    "collapsed": false
   },
   "outputs": [
    {
     "data": {
      "text/plain": [
       "<matplotlib.axes._subplots.AxesSubplot at 0x10f1fbdd8>"
      ]
     },
     "execution_count": 29,
     "metadata": {},
     "output_type": "execute_result"
    },
    {
     "data": {
      "image/png": "[encoded data removed]",
      "text/plain": [
       "<matplotlib.figure.Figure at 0x10f614d68>"
      ]
     },
     "metadata": {},
     "output_type": "display_data"
    }
   ],
   "source": [
    "# How does temperature vary over the year (x-axis is months)\n",
    "\n",
    "# plot the mean\n",
    "# Shows us that the warmer months occur between March - June\n",
    "bangalore_temp.mean().plot()"
   ]
  },
  {
   "cell_type": "code",
   "execution_count": 31,
   "metadata": {
    "collapsed": false
   },
   "outputs": [
    {
     "data": {
      "text/plain": [
       "<matplotlib.axes._subplots.AxesSubplot at 0x10f821048>"
      ]
     },
     "execution_count": 31,
     "metadata": {},
     "output_type": "execute_result"
    },
    {
     "data": {
      "image/png": "[encoded data removed]",
      "text/plain": [
       "<matplotlib.figure.Figure at 0x10f851080>"
      ]
     },
     "metadata": {},
     "output_type": "display_data"
    }
   ],
   "source": [
    "# plot the max temp\n",
    "bangalore_temp.max().plot()"
   ]
  },
  {
   "cell_type": "code",
   "execution_count": 40,
   "metadata": {
    "collapsed": false,
    "scrolled": true
   },
   "outputs": [
    {
     "data": {
      "text/plain": [
       "<matplotlib.axes._subplots.AxesSubplot at 0x10fd725c0>"
      ]
     },
     "execution_count": 40,
     "metadata": {},
     "output_type": "execute_result"
    },
    {
     "data": {
      "image/png": "[encoded data removed]",
      "text/plain": [
       "<matplotlib.figure.Figure at 0x10fb33828>"
      ]
     },
     "metadata": {},
     "output_type": "display_data"
    }
   ],
   "source": [
    "# plot the min temp\n",
    "bangalore_temp.min().plot()"
   ]
  },
  {
   "cell_type": "code",
   "execution_count": 34,
   "metadata": {
    "collapsed": false
   },
   "outputs": [
    {
     "data": {
      "text/html": [
       "<div>\n",
       "<table border=\"1\" class=\"dataframe\">\n",
       "  <thead>\n",
       "    <tr style=\"text-align: right;\">\n",
       "      <th>Year</th>\n",
       "      <th>1901</th>\n",
       "      <th>1902</th>\n",
       "      <th>1903</th>\n",
       "      <th>1904</th>\n",
       "      <th>1905</th>\n",
       "      <th>1906</th>\n",
       "      <th>1907</th>\n",
       "      <th>1908</th>\n",
       "      <th>1909</th>\n",
       "      <th>1910</th>\n",
       "      <th>...</th>\n",
       "      <th>1993</th>\n",
       "      <th>1994</th>\n",
       "      <th>1995</th>\n",
       "      <th>1996</th>\n",
       "      <th>1997</th>\n",
       "      <th>1998</th>\n",
       "      <th>1999</th>\n",
       "      <th>2000</th>\n",
       "      <th>2001</th>\n",
       "      <th>2002</th>\n",
       "    </tr>\n",
       "  </thead>\n",
       "  <tbody>\n",
       "    <tr>\n",
       "      <th>Jan</th>\n",
       "      <td>23.094</td>\n",
       "      <td>21.588</td>\n",
       "      <td>22.296</td>\n",
       "      <td>20.982</td>\n",
       "      <td>21.740</td>\n",
       "      <td>22.935</td>\n",
       "      <td>21.529</td>\n",
       "      <td>21.974</td>\n",
       "      <td>22.070</td>\n",
       "      <td>22.083</td>\n",
       "      <td>...</td>\n",
       "      <td>22.218</td>\n",
       "      <td>22.504</td>\n",
       "      <td>22.372</td>\n",
       "      <td>22.982</td>\n",
       "      <td>22.614</td>\n",
       "      <td>23.530</td>\n",
       "      <td>22.705</td>\n",
       "      <td>23.174</td>\n",
       "      <td>23.196</td>\n",
       "      <td>23.349</td>\n",
       "    </tr>\n",
       "    <tr>\n",
       "      <th>Feb</th>\n",
       "      <td>24.243</td>\n",
       "      <td>22.930</td>\n",
       "      <td>23.969</td>\n",
       "      <td>22.623</td>\n",
       "      <td>24.158</td>\n",
       "      <td>24.680</td>\n",
       "      <td>23.739</td>\n",
       "      <td>23.289</td>\n",
       "      <td>23.860</td>\n",
       "      <td>23.578</td>\n",
       "      <td>...</td>\n",
       "      <td>24.155</td>\n",
       "      <td>24.586</td>\n",
       "      <td>24.975</td>\n",
       "      <td>24.345</td>\n",
       "      <td>24.661</td>\n",
       "      <td>25.724</td>\n",
       "      <td>24.466</td>\n",
       "      <td>25.028</td>\n",
       "      <td>26.063</td>\n",
       "      <td>24.130</td>\n",
       "    </tr>\n",
       "    <tr>\n",
       "      <th>Mar</th>\n",
       "      <td>25.398</td>\n",
       "      <td>26.277</td>\n",
       "      <td>26.552</td>\n",
       "      <td>25.636</td>\n",
       "      <td>26.095</td>\n",
       "      <td>25.505</td>\n",
       "      <td>25.841</td>\n",
       "      <td>25.262</td>\n",
       "      <td>26.425</td>\n",
       "      <td>26.377</td>\n",
       "      <td>...</td>\n",
       "      <td>26.692</td>\n",
       "      <td>26.980</td>\n",
       "      <td>26.471</td>\n",
       "      <td>27.077</td>\n",
       "      <td>26.584</td>\n",
       "      <td>27.917</td>\n",
       "      <td>27.490</td>\n",
       "      <td>26.542</td>\n",
       "      <td>27.427</td>\n",
       "      <td>27.284</td>\n",
       "    </tr>\n",
       "    <tr>\n",
       "      <th>Apr</th>\n",
       "      <td>27.740</td>\n",
       "      <td>27.442</td>\n",
       "      <td>27.764</td>\n",
       "      <td>27.510</td>\n",
       "      <td>26.977</td>\n",
       "      <td>28.822</td>\n",
       "      <td>26.807</td>\n",
       "      <td>28.201</td>\n",
       "      <td>27.133</td>\n",
       "      <td>28.064</td>\n",
       "      <td>...</td>\n",
       "      <td>28.203</td>\n",
       "      <td>27.738</td>\n",
       "      <td>28.069</td>\n",
       "      <td>27.685</td>\n",
       "      <td>26.850</td>\n",
       "      <td>28.908</td>\n",
       "      <td>27.890</td>\n",
       "      <td>28.090</td>\n",
       "      <td>28.128</td>\n",
       "      <td>28.559</td>\n",
       "    </tr>\n",
       "    <tr>\n",
       "      <th>May</th>\n",
       "      <td>26.328</td>\n",
       "      <td>27.118</td>\n",
       "      <td>26.718</td>\n",
       "      <td>25.878</td>\n",
       "      <td>26.863</td>\n",
       "      <td>28.272</td>\n",
       "      <td>26.550</td>\n",
       "      <td>26.575</td>\n",
       "      <td>26.177</td>\n",
       "      <td>27.479</td>\n",
       "      <td>...</td>\n",
       "      <td>27.816</td>\n",
       "      <td>27.685</td>\n",
       "      <td>26.253</td>\n",
       "      <td>28.268</td>\n",
       "      <td>27.599</td>\n",
       "      <td>28.075</td>\n",
       "      <td>25.822</td>\n",
       "      <td>26.859</td>\n",
       "      <td>27.404</td>\n",
       "      <td>27.501</td>\n",
       "    </tr>\n",
       "  </tbody>\n",
       "</table>\n",
       "<p>5 rows × 102 columns</p>\n",
       "</div>"
      ],
      "text/plain": [
       "Year    1901    1902    1903    1904    1905    1906    1907    1908    1909  \\\n",
       "Jan   23.094  21.588  22.296  20.982  21.740  22.935  21.529  21.974  22.070   \n",
       "Feb   24.243  22.930  23.969  22.623  24.158  24.680  23.739  23.289  23.860   \n",
       "Mar   25.398  26.277  26.552  25.636  26.095  25.505  25.841  25.262  26.425   \n",
       "Apr   27.740  27.442  27.764  27.510  26.977  28.822  26.807  28.201  27.133   \n",
       "May   26.328  27.118  26.718  25.878  26.863  28.272  26.550  26.575  26.177   \n",
       "\n",
       "Year    1910   ...      1993    1994    1995    1996    1997    1998    1999  \\\n",
       "Jan   22.083   ...    22.218  22.504  22.372  22.982  22.614  23.530  22.705   \n",
       "Feb   23.578   ...    24.155  24.586  24.975  24.345  24.661  25.724  24.466   \n",
       "Mar   26.377   ...    26.692  26.980  26.471  27.077  26.584  27.917  27.490   \n",
       "Apr   28.064   ...    28.203  27.738  28.069  27.685  26.850  28.908  27.890   \n",
       "May   27.479   ...    27.816  27.685  26.253  28.268  27.599  28.075  25.822   \n",
       "\n",
       "Year    2000    2001    2002  \n",
       "Jan   23.174  23.196  23.349  \n",
       "Feb   25.028  26.063  24.130  \n",
       "Mar   26.542  27.427  27.284  \n",
       "Apr   28.090  28.128  28.559  \n",
       "May   26.859  27.404  27.501  \n",
       "\n",
       "[5 rows x 102 columns]"
      ]
     },
     "execution_count": 34,
     "metadata": {},
     "output_type": "execute_result"
    }
   ],
   "source": [
    "# How does temperature vary over the year (x-axis is years)\n",
    "# Need to swap columns so that years are not represented as columns\n",
    "bangalore_2 = bangalore_temp.transpose()\n",
    "bangalore_2.head()\n"
   ]
  },
  {
   "cell_type": "code",
   "execution_count": 37,
   "metadata": {
    "collapsed": false,
    "scrolled": true
   },
   "outputs": [
    {
     "data": {
      "text/plain": [
       "<matplotlib.axes._subplots.AxesSubplot at 0x10f4c76d8>"
      ]
     },
     "execution_count": 37,
     "metadata": {},
     "output_type": "execute_result"
    },
    {
     "data": {
      "image/png": "[encoded data removed]",
      "text/plain": [
       "<matplotlib.figure.Figure at 0x10f9f4ef0>"
      ]
     },
     "metadata": {},
     "output_type": "display_data"
    }
   ],
   "source": [
    "# plot the mean over the years\n",
    "# Shows us that the average temperature has been increasing steadily since 1950's\n",
    "bangalore_2.mean().plot()"
   ]
  },
  {
   "cell_type": "code",
   "execution_count": 38,
   "metadata": {
    "collapsed": false
   },
   "outputs": [
    {
     "data": {
      "text/plain": [
       "<matplotlib.axes._subplots.AxesSubplot at 0x10fb21780>"
      ]
     },
     "execution_count": 38,
     "metadata": {},
     "output_type": "execute_result"
    },
    {
     "data": {
      "image/png": "[encoded data removed]",
      "text/plain": [
       "<matplotlib.figure.Figure at 0x10fc2e630>"
      ]
     },
     "metadata": {},
     "output_type": "display_data"
    }
   ],
   "source": [
    "# Plot the min over the years\n",
    "bangalore_2.min().plot()"
   ]
  },
  {
   "cell_type": "code",
   "execution_count": 39,
   "metadata": {
    "collapsed": false
   },
   "outputs": [
    {
     "data": {
      "text/plain": [
       "<matplotlib.axes._subplots.AxesSubplot at 0x10fc3cf28>"
      ]
     },
     "execution_count": 39,
     "metadata": {},
     "output_type": "execute_result"
    },
    {
     "data": {
      "image/png": "[encoded data removed]",
      "text/plain": [
       "<matplotlib.figure.Figure at 0x10fc71e10>"
      ]
     },
     "metadata": {},
     "output_type": "display_data"
    }
   ],
   "source": [
    "# plot the max over the years\n",
    "bangalore_2.max().plot()"
   ]
  },
  {
   "cell_type": "code",
   "execution_count": 58,
   "metadata": {
    "collapsed": false
   },
   "outputs": [
    {
     "data": {
      "text/plain": [
       "'Apr'"
      ]
     },
     "execution_count": 58,
     "metadata": {},
     "output_type": "execute_result"
    }
   ],
   "source": [
    "# Which months had the highest and lowest temperatures in 1960?\n",
    "# max\n",
    "bangalore_2[1960].idxmax()"
   ]
  },
  {
   "cell_type": "code",
   "execution_count": 59,
   "metadata": {
    "collapsed": false
   },
   "outputs": [
    {
     "data": {
      "text/plain": [
       "'Dec'"
      ]
     },
     "execution_count": 59,
     "metadata": {},
     "output_type": "execute_result"
    }
   ],
   "source": [
    "# min\n",
    "bangalore_2[1960].idxmin()"
   ]
  },
  {
   "cell_type": "code",
   "execution_count": 52,
   "metadata": {
    "collapsed": false
   },
   "outputs": [
    {
     "data": {
      "text/plain": [
       "28.141999999999999"
      ]
     },
     "execution_count": 52,
     "metadata": {},
     "output_type": "execute_result"
    }
   ],
   "source": [
    "# What were the highest, lowest and mean values in 1960?\n",
    "#Highest\n",
    "bangalore_2[1960].max()"
   ]
  },
  {
   "cell_type": "code",
   "execution_count": 53,
   "metadata": {
    "collapsed": false
   },
   "outputs": [
    {
     "data": {
      "text/plain": [
       "21.814"
      ]
     },
     "execution_count": 53,
     "metadata": {},
     "output_type": "execute_result"
    }
   ],
   "source": [
    "#Lowest\n",
    "bangalore_2[1960].min()"
   ]
  },
  {
   "cell_type": "code",
   "execution_count": 54,
   "metadata": {
    "collapsed": false
   },
   "outputs": [
    {
     "data": {
      "text/plain": [
       "24.564083333333333"
      ]
     },
     "execution_count": 54,
     "metadata": {},
     "output_type": "execute_result"
    }
   ],
   "source": [
    "#mean\n",
    "bangalore_2[1960].mean()"
   ]
  },
  {
   "cell_type": "code",
   "execution_count": 64,
   "metadata": {
    "collapsed": false
   },
   "outputs": [
    {
     "name": "stdout",
     "output_type": "stream",
     "text": [
      "For the year 1960 ...\n",
      "The highest temperature of 28.142 occured in Apr\n",
      "The lowest temperature of 21.814 occured in Dec\n",
      "The mean temperature for the year was 24.564083333333333\n"
     ]
    }
   ],
   "source": [
    "# Where were the highest, lowest and mean values in an arbitray year (hint: write a function)?\n",
    "def highest_lowest_mean(year):\n",
    "    print('For the year {} ...'.format(year))\n",
    "    print('The highest temperature of {} occured in {}'.format(bangalore_2[year].max(), bangalore_2[year].idxmax()))\n",
    "    print('The lowest temperature of {} occured in {}'.format(bangalore_2[year].min(), bangalore_2[year].idxmin()))\n",
    "    print('The mean temperature for the year was {}'.format(bangalore_2[year].mean()))\n",
    "\n",
    "highest_lowest_mean(1960)"
   ]
  },
  {
   "cell_type": "code",
   "execution_count": 60,
   "metadata": {
    "collapsed": false
   },
   "outputs": [
    {
     "name": "stdout",
     "output_type": "stream",
     "text": [
      "hi 39\n"
     ]
    }
   ],
   "source": [
    "# Which months had the highest and lowest gains in temperature?\n",
    "print('hi {}'.format(39))"
   ]
  },
  {
   "cell_type": "code",
   "execution_count": null,
   "metadata": {
    "collapsed": true
   },
   "outputs": [],
   "source": [
    "# Make a histogram, KDE plot and bar plot of the gains."
   ]
  },
  {
   "cell_type": "markdown",
   "metadata": {},
   "source": [
    "### Task 3 - Visualization\n",
    "\n",
    "matplotlib\n",
    "- Make a histogram for a particular month.\n",
    "- Compare distributions for 2 months (histograms on subplots).\n",
    "- Compare two years in the same histogram (use color coding).\n",
    "- Define a function to compare two months in the same frame.\n",
    "- Create a box plot for 1 month.\n",
    "- Create a box plot for 2 months on 1 figure.\n",
    "- Create a function that compares 2 months via boxplot.\n",
    "\n",
    "seaborn\n",
    "- Make a KDE plot of one month.\n",
    "- Make a function that compares the KDE plots of 2 months.\n",
    "- Compare the histogram and KDE plots of 2 months on the same figure.\n",
    "- Create a Facetgrid version of the KDE plots. Loop through a months array.\n",
    "- Create a violin plot for 1 month.\n",
    "- Create a violin plot for 2 months on 1 figure.\n",
    "- Create a function that compares 2 months via violin plot."
   ]
  },
  {
   "cell_type": "code",
   "execution_count": null,
   "metadata": {
    "collapsed": true
   },
   "outputs": [],
   "source": []
  },
  {
   "cell_type": "markdown",
   "metadata": {},
   "source": [
    "### Task 4 - Insight\n",
    "\n",
    "- Visually represent the varying temperatures over the entire period.\n",
    "- Find the coldest and warmest months for May over the entire period."
   ]
  },
  {
   "cell_type": "code",
   "execution_count": null,
   "metadata": {
    "collapsed": true
   },
   "outputs": [],
   "source": []
  }
 ],
 "metadata": {
  "anaconda-cloud": {},
  "kernelspec": {
   "display_name": "Python 3",
   "language": "python",
   "name": "python3"
  },
  "language_info": {
   "codemirror_mode": {
    "name": "ipython",
    "version": 3
   },
   "file_extension": ".py",
   "mimetype": "text/x-python",
   "name": "python",
   "nbconvert_exporter": "python",
   "pygments_lexer": "ipython3",
   "version": "3.6.0"
  }
 },
 "nbformat": 4,
 "nbformat_minor": 1
}
